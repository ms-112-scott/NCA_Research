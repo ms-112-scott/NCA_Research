{
 "cells": [
  {
   "cell_type": "markdown",
   "id": "dc7f8c71",
   "metadata": {},
   "source": [
    "# imports"
   ]
  },
  {
   "cell_type": "code",
   "execution_count": null,
   "id": "11db34a0",
   "metadata": {},
   "outputs": [],
   "source": [
    "# 1. 標準庫\n",
    "import sys\n",
    "import os\n",
    "import io\n",
    "import json\n",
    "import glob\n",
    "\n",
    "# 2. 第三方套件\n",
    "import numpy as np\n",
    "import matplotlib.pylab as pl\n",
    "import tensorflow as tf\n",
    "import tqdm\n",
    "from IPython.display import clear_output, display, HTML\n",
    "\n",
    "# 3. 影片相關\n",
    "os.environ['FFMPEG_BINARY'] = 'ffmpeg'\n",
    "import moviepy.editor as mvp\n",
    "\n",
    "# 4. 設定 project 路徑（依你本機路徑調整）\n",
    "project_root = \"C:/Users/GAI/Desktop/呂博軒/NCA_Research\"\n",
    "if project_root not in sys.path:\n",
    "    sys.path.append(project_root)\n",
    "\n",
    "# 5. IPython 魔法指令（Jupyter專用）\n",
    "%reload_ext autoreload\n",
    "%autoreload 2\n",
    "\n",
    "# 6. 專案內部 utils 函式庫導入\n",
    "\n",
    "# 6.1 影像儲存與編碼工具\n",
    "from core_utils.io_utils import (\n",
    "    np2pil,      # numpy → PIL Image\n",
    "    imwrite,     # 儲存圖像為檔案\n",
    "    imencode,    # 編碼圖像為 byte stream\n",
    "    im2url,      # 圖像轉 base64 URL（HTML 顯示用）\n",
    "    load_emoji   # 載入 emoji 圖像\n",
    ")\n",
    "\n",
    "# 6.2 影像處理與顯示工具\n",
    "from core_utils.image_utils import (\n",
    "    imshow,      # 在 notebook 顯示圖像\n",
    "    tile2d,      # 多圖拼接\n",
    "    zoom         # 放大圖像\n",
    ")\n",
    "\n",
    "# 6.3 影片輸出工具\n",
    "from core_utils.video_utils import (\n",
    "    save_video,  # 批次輸出影片\n",
    "    VideoWriter  # 逐幀寫入影片（支援 context manager）\n",
    ")\n",
    "\n",
    "# 6.4 TensorFlow 相關自訂操作（轉換通道）\n",
    "from core_utils.tf_ops import (\n",
    "    to_rgb,\n",
    "    to_rgba,\n",
    "    to_alpha\n",
    ")\n",
    "\n",
    "\n",
    "clear_output()\n"
   ]
  }
 ],
 "metadata": {
  "language_info": {
   "name": "python"
  }
 },
 "nbformat": 4,
 "nbformat_minor": 5
}
