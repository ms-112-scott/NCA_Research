{
 "cells": [
  {
   "cell_type": "code",
   "execution_count": 1,
   "id": "89c086ae",
   "metadata": {},
   "outputs": [],
   "source": [
    "import cv2\n",
    "import numpy as np\n",
    "import os\n",
    "\n",
    "def stack_videos_vertically(video_paths, output_path):\n",
    "    # 打開所有影片\n",
    "    caps = [cv2.VideoCapture(p) for p in video_paths]\n",
    "    assert all([cap.isOpened() for cap in caps]), \"有影片無法打開\"\n",
    "\n",
    "    # 確認所有影片幀數一致\n",
    "    frame_counts = [int(cap.get(cv2.CAP_PROP_FRAME_COUNT)) for cap in caps]\n",
    "    assert len(set(frame_counts)) == 1, f\"所有影片幀數需相同，目前為：{frame_counts}\"\n",
    "\n",
    "    # 取得影片資訊\n",
    "    fps = int(caps[0].get(cv2.CAP_PROP_FPS))\n",
    "    widths = [int(cap.get(cv2.CAP_PROP_FRAME_WIDTH)) for cap in caps]\n",
    "    heights = [int(cap.get(cv2.CAP_PROP_FRAME_HEIGHT)) for cap in caps]\n",
    "    assert len(set(widths)) == 1, \"影片寬度需一致\"\n",
    "    \n",
    "    out_width = widths[0]\n",
    "    out_height = sum(heights)\n",
    "    frame_count = frame_counts[0]\n",
    "\n",
    "    # 建立輸出資料夾\n",
    "    os.makedirs(os.path.dirname(output_path), exist_ok=True)\n",
    "\n",
    "    # 初始化影片寫入器\n",
    "    fourcc = cv2.VideoWriter_fourcc(*'mp4v')\n",
    "    writer = cv2.VideoWriter(output_path, fourcc, fps, (out_width, out_height))\n",
    "\n",
    "    print(\"開始合併影片...\")\n",
    "    for _ in range(frame_count):\n",
    "        frames = []\n",
    "        for cap in caps:\n",
    "            ret, frame = cap.read()\n",
    "            if not ret:\n",
    "                raise ValueError(\"影片讀取失敗\")\n",
    "            frames.append(frame)\n",
    "        stacked_frame = np.vstack(frames)\n",
    "        writer.write(stacked_frame)\n",
    "\n",
    "    # 釋放資源\n",
    "    for cap in caps:\n",
    "        cap.release()\n",
    "    writer.release()\n",
    "    print(f\"影片成功輸出：{output_path}\")\n"
   ]
  },
  {
   "cell_type": "code",
   "execution_count": 2,
   "id": "7a58f32e",
   "metadata": {},
   "outputs": [
    {
     "name": "stdout",
     "output_type": "stream",
     "text": [
      "開始合併影片...\n",
      "影片成功輸出：../outputs/video/local_speed_compare.mp4\n"
     ]
    }
   ],
   "source": [
    "video_paths = [\n",
    "    \"../outputs/E2-AsyncNCA-speed_1.0_1.0/video/trained_for_differnt_steps.mp4\",\n",
    "    \"../outputs/E2-AsyncNCA-speed_0.9_1.0/video/trained_for_differnt_steps.mp4\",\n",
    "    \"../outputs/E2-AsyncNCA-speed_0.8_1.0/video/trained_for_differnt_steps.mp4\",\n",
    "    \"../outputs/E2-AsyncNCA-speed_0.7_1.0/video/trained_for_differnt_steps.mp4\",\n",
    "    \"../outputs/E2-AsyncNCA-speed_0.6_1.0/video/trained_for_differnt_steps.mp4\",\n",
    "    \"../outputs/E2-AsyncNCA-speed_0.5_1.0/video/trained_for_differnt_steps.mp4\",\n",
    "]\n",
    "output_path = \"../outputs/video/local_speed_compare.mp4\"\n",
    "\n",
    "stack_videos_vertically(video_paths, output_path)\n"
   ]
  }
 ],
 "metadata": {
  "kernelspec": {
   "display_name": "NCA_tf_gpu",
   "language": "python",
   "name": "python3"
  },
  "language_info": {
   "codemirror_mode": {
    "name": "ipython",
    "version": 3
   },
   "file_extension": ".py",
   "mimetype": "text/x-python",
   "name": "python",
   "nbconvert_exporter": "python",
   "pygments_lexer": "ipython3",
   "version": "3.9.21"
  }
 },
 "nbformat": 4,
 "nbformat_minor": 5
}
