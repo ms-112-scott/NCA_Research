{
 "cells": [
  {
   "cell_type": "code",
   "execution_count": 1,
   "id": "5b905a3c",
   "metadata": {},
   "outputs": [
    {
     "name": "stdout",
     "output_type": "stream",
     "text": [
      "CUDA Available: True\n",
      "GPU Count: 1\n",
      "GPU Name: NVIDIA GeForce RTX 3080 Laptop GPU\n"
     ]
    }
   ],
   "source": [
    "import torch\n",
    "\n",
    "# 檢查 GPU 是否可用\n",
    "print(\"CUDA Available:\", torch.cuda.is_available())\n",
    "\n",
    "# 顯示 GPU 數量\n",
    "print(\"GPU Count:\", torch.cuda.device_count())\n",
    "\n",
    "# 顯示第一張 GPU 的名稱\n",
    "if torch.cuda.is_available():\n",
    "    print(\"GPU Name:\", torch.cuda.get_device_name(0))\n"
   ]
  }
 ],
 "metadata": {
  "kernelspec": {
   "display_name": "pytorch_gpu",
   "language": "python",
   "name": "python3"
  },
  "language_info": {
   "codemirror_mode": {
    "name": "ipython",
    "version": 3
   },
   "file_extension": ".py",
   "mimetype": "text/x-python",
   "name": "python",
   "nbconvert_exporter": "python",
   "pygments_lexer": "ipython3",
   "version": "3.10.18"
  }
 },
 "nbformat": 4,
 "nbformat_minor": 5
}
